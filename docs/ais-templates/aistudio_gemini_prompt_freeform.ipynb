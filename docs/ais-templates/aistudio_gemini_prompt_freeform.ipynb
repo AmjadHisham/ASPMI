{
  "cells": [
    {
      "cell_type": "markdown",
      "metadata": {
        "id": "Tce3stUlHN0L"
      },
      "source": [
        "##### Copyright 2023 Google LLC"
      ]
    },
    {
      "cell_type": "code",
      "execution_count": null,
      "metadata": {
        "cellView": "form",
        "id": "tuOe1ymfHZPu"
      },
      "outputs": [],
      "source": [
        "# @title Licensed under the Apache License, Version 2.0 (the \"License\");\n",
        "# you may not use this file except in compliance with the License.\n",
        "# You may obtain a copy of the License at\n",
        "#\n",
        "# https://www.apache.org/licenses/LICENSE-2.0\n",
        "#\n",
        "# Unless required by applicable law or agreed to in writing, software\n",
        "# distributed under the License is distributed on an \"AS IS\" BASIS,\n",
        "# WITHOUT WARRANTIES OR CONDITIONS OF ANY KIND, either express or implied.\n",
        "# See the License for the specific language governing permissions and\n",
        "# limitations under the License."
      ]
    },
    {
      "cell_type": "markdown",
      "metadata": {
        "id": "FKwyTRdwB8aW"
      },
      "source": [
        "## Setup"
      ]
    },
    {
      "cell_type": "code",
      "execution_count": 1,
      "metadata": {
        "id": "RXInneX6xx7c"
      },
      "outputs": [],
      "source": [
        "!pip install -U -q \"google-generativeai>=0.8.2\""
      ]
    },
    {
      "cell_type": "code",
      "execution_count": 2,
      "metadata": {
        "id": "kWIuwKG2_oWE",
        "colab": {
          "base_uri": "https://localhost:8080/"
        },
        "outputId": "859ecd91-3d7f-4733-9037-9e0938def980"
      },
      "outputs": [
        {
          "output_type": "stream",
          "name": "stdout",
          "text": [
            "Uploading: https://storage.googleapis.com/generativeai-downloads/images/scones.jpg\n",
            "[\n",
            "    {\n",
            "        \"parts\": [\n",
            "            {\n",
            "                \"text\": \"What's in this picture?\"\n",
            "            },\n",
            "            {\n",
            "                \"file_data\": {\n",
            "                    \"mime_type\": \"image/jpeg\",\n",
            "                    \"file_uri\": \"https://generativelanguage.googleapis.com/v1beta/files/ypcaj8r9euho\"\n",
            "                }\n",
            "            }\n",
            "        ]\n",
            "    }\n",
            "]\n"
          ]
        }
      ],
      "source": [
        "# import necessary modules.\n",
        "import base64\n",
        "import copy\n",
        "import json\n",
        "import pathlib\n",
        "import requests\n",
        "\n",
        "\n",
        "import PIL.Image\n",
        "import IPython.display\n",
        "from IPython.display import Markdown\n",
        "\n",
        "try:\n",
        "    # The SDK will automatically read it from the GOOGLE_API_KEY environment variable.\n",
        "    # In Colab get the key from Colab-secrets (\"🔑\" in the left panel).\n",
        "    import os\n",
        "    from google.colab import userdata\n",
        "\n",
        "    os.environ[\"GOOGLE_API_KEY\"] = userdata.get(\"GOOGLE_API_KEY\")\n",
        "except ImportError:\n",
        "    pass\n",
        "\n",
        "import google.generativeai as genai\n",
        "\n",
        "# Parse the arguments\n",
        "\n",
        "model = \"gemini-1.5-flash\"  # @param {isTemplate: true}\n",
        "contents_b64 = \"W3sicGFydHMiOiBbeyJ0ZXh0IjogIldoYXQncyBpbiB0aGlzIHBpY3R1cmU/In0sIHsiZmlsZV9kYXRhIjogeyJ1cmwiOiAiaHR0cHM6Ly9zdG9yYWdlLmdvb2dsZWFwaXMuY29tL2dlbmVyYXRpdmVhaS1kb3dubG9hZHMvaW1hZ2VzL3Njb25lcy5qcGciLCAibWltZV90eXBlIjogImltYWdlL2pwZWcifX1dfV0=\"  # @param {isTemplate: true}\n",
        "generation_config_b64 = \"e30=\"  # @param {isTemplate: true}\n",
        "safety_settings_b64 = \"e30=\"  # @param {isTemplate: true}\n",
        "\n",
        "gais_contents = json.loads(base64.b64decode(contents_b64))\n",
        "\n",
        "generation_config = json.loads(base64.b64decode(generation_config_b64))\n",
        "safety_settings = json.loads(base64.b64decode(safety_settings_b64))\n",
        "\n",
        "stream = False\n",
        "\n",
        "# Convert and upload the files\n",
        "\n",
        "tempfiles = pathlib.Path(f\"tempfiles\")\n",
        "tempfiles.mkdir(parents=True, exist_ok=True)\n",
        "\n",
        "\n",
        "drive = None\n",
        "def upload_file_data(file_data, index):\n",
        "    \"\"\"Upload files to the Files API.\n",
        "\n",
        "    For each file, Google AI Studio either sent:\n",
        "    - a Google Drive ID,\n",
        "    - a URL,\n",
        "    - a file path, or\n",
        "    - The raw bytes (`inline_data`).\n",
        "\n",
        "    The API only understands `inline_data` or it's Files API.\n",
        "    This code, uploads files to the files API where the API can access them.\n",
        "    \"\"\"\n",
        "\n",
        "    mime_type = file_data[\"mime_type\"]\n",
        "    if drive_id := file_data.pop(\"drive_id\", None):\n",
        "        if drive is None:\n",
        "          from google.colab import drive\n",
        "          drive.mount(\"/gdrive\")\n",
        "\n",
        "        path = next(\n",
        "            pathlib.Path(f\"/gdrive/.shortcut-targets-by-id/{drive_id}\").glob(\"*\")\n",
        "        )\n",
        "        print(\"Uploading:\", str(path))\n",
        "        file_info = genai.upload_file(path=path, mime_type=mime_type)\n",
        "        file_data[\"file_uri\"] = file_info.uri\n",
        "        return\n",
        "\n",
        "    if url := file_data.pop(\"url\", None):\n",
        "        response = requests.get(url)\n",
        "        data = response.content\n",
        "        name = url.split(\"/\")[-1]\n",
        "        path = tempfiles / str(index)\n",
        "        path.write_bytes(data)\n",
        "        print(\"Uploading:\", url)\n",
        "        file_info = genai.upload_file(path, display_name=name, mime_type=mime_type)\n",
        "        file_data[\"file_uri\"] = file_info.uri\n",
        "        return\n",
        "\n",
        "    if name := file_data.get(\"filename\", None):\n",
        "        if not pathlib.Path(name).exists():\n",
        "            raise IOError(\n",
        "                f\"local file: `{name}` does not exist. You can upload files \"\n",
        "                'to Colab using the file manager (\"📁 Files\" in the left '\n",
        "                \"toolbar)\"\n",
        "            )\n",
        "        file_info = genai.upload_file(path, display_name=name, mime_type=mime_type)\n",
        "        file_data[\"file_uri\"] = file_info.uri\n",
        "        return\n",
        "\n",
        "    if \"inline_data\" in file_data:\n",
        "        return\n",
        "\n",
        "    raise ValueError(\"Either `drive_id`, `url` or `inline_data` must be provided.\")\n",
        "\n",
        "\n",
        "contents = copy.deepcopy(gais_contents)\n",
        "\n",
        "index = 0\n",
        "for content in contents:\n",
        "    for n, part in enumerate(content[\"parts\"]):\n",
        "        if file_data := part.get(\"file_data\", None):\n",
        "            upload_file_data(file_data, index)\n",
        "            index += 1\n",
        "\n",
        "import json\n",
        "print(json.dumps(contents, indent=4))"
      ]
    },
    {
      "cell_type": "markdown",
      "metadata": {
        "id": "E7zAD69vE92b"
      },
      "source": [
        "## Call `generate_content`"
      ]
    },
    {
      "cell_type": "code",
      "execution_count": 3,
      "metadata": {
        "id": "LB2LxPmAB95V",
        "colab": {
          "base_uri": "https://localhost:8080/",
          "height": 197
        },
        "outputId": "a6b572b0-52a7-4d5a-c01b-297f6539595b"
      },
      "outputs": [
        {
          "output_type": "display_data",
          "data": {
            "text/plain": [
              "<IPython.core.display.Markdown object>"
            ],
            "text/markdown": "That's a lovely overhead shot of a rustic-style breakfast or brunch spread.  Here's what's in the picture:\n\n* **Blueberry scones:** Several freshly baked blueberry scones are arranged on a piece of parchment paper.  They appear to be crumbly and slightly sweet.\n* **Fresh blueberries:** A small bowl of fresh blueberries sits alongside the scones.  There are also some loose blueberries scattered on the paper.\n* **Coffee:** Two small cups of coffee are present; one seems to be almost full, and the other about half full.\n* **Peonies:** Several pink peonies are arranged next to the food, adding a touch of elegance and color.\n* **Spoon:** A decorative spoon with \"Let's Jam\" engraved on it.\n* **Parchment paper:** The scones and blueberries are presented on a piece of parchment paper with some purple stains.\n* **Dark background:** The entire scene is set against a dark, textured surface.\n\nThe overall impression is one of a relaxed and aesthetically pleasing meal, perfect for a leisurely morning.\n"
          },
          "metadata": {}
        }
      ],
      "source": [
        "from IPython.display import display\n",
        "from IPython.display import Markdown\n",
        "\n",
        "# Call the model and print the response.\n",
        "gemini = genai.GenerativeModel(model_name=model)\n",
        "\n",
        "response = gemini.generate_content(\n",
        "    contents,\n",
        "    generation_config=generation_config,\n",
        "    safety_settings=safety_settings,\n",
        "    stream=stream,\n",
        ")\n",
        "\n",
        "display(Markdown(response.text))"
      ]
    },
    {
      "cell_type": "markdown",
      "metadata": {
        "id": "9c9d345e9868"
      },
      "source": [
        "<table class=\"tfo-notebook-buttons\" align=\"left\">\n",
        "  <td>\n",
        "    <a target=\"_blank\" href=\"https://ai.google.dev/gemini-api/docs\"><img src=\"https://ai.google.dev/static/site-assets/images/docs/notebook-site-button.png\" height=\"32\" width=\"32\" />Docs on ai.google.dev</a>\n",
        "  </td>\n",
        "  <td>\n",
        "    <a target=\"_blank\" href=\"https://github.com/google-gemini/cookbook/blob/main/quickstarts\"><img src=\"https://www.tensorflow.org/images/GitHub-Mark-32px.png\" />More notebooks in the Cookbook</a>\n",
        "  </td>\n",
        "</table>"
      ]
    },
    {
      "cell_type": "markdown",
      "metadata": {
        "id": "F91AeeGO1ncU"
      },
      "source": [
        "## [optional] Show the conversation\n",
        "\n",
        "This section displays the conversation received from Google AI Studio."
      ]
    },
    {
      "cell_type": "code",
      "execution_count": 4,
      "metadata": {
        "id": "yoL3p3KPylFW",
        "colab": {
          "base_uri": "https://localhost:8080/",
          "height": 279
        },
        "outputId": "cf988446-c045-41c0-e432-93ae2e7d0103"
      },
      "outputs": [
        {
          "output_type": "stream",
          "name": "stdout",
          "text": [
            "What's in this picture? \n",
            "\n"
          ]
        },
        {
          "output_type": "display_data",
          "data": {
            "text/html": [
              "<img src=\"https://storage.googleapis.com/generativeai-downloads/images/scones.jpg\" width=\"256\"/>"
            ],
            "text/plain": [
              "<IPython.core.display.Image object>"
            ]
          },
          "metadata": {}
        },
        {
          "output_type": "stream",
          "name": "stdout",
          "text": [
            "\n",
            "-------------------------------------------------------------------------------- \n",
            "\n"
          ]
        }
      ],
      "source": [
        "# @title Show the conversation, in colab.\n",
        "import mimetypes\n",
        "\n",
        "def show_file(file_data):\n",
        "    mime_type = file_data[\"mime_type\"]\n",
        "\n",
        "    if drive_id := file_data.get(\"drive_id\", None):\n",
        "        path = next(\n",
        "            pathlib.Path(f\"/gdrive/.shortcut-targets-by-id/{drive_id}\").glob(\"*\")\n",
        "        )\n",
        "        name = path\n",
        "        # data = path.read_bytes()\n",
        "        kwargs = {\"filename\": path}\n",
        "    elif url := file_data.get(\"url\", None):\n",
        "        name = url\n",
        "        kwargs = {\"url\": url}\n",
        "        # response = requests.get(url)\n",
        "        # data = response.content\n",
        "    elif data := file_data.get(\"inline_data\", None):\n",
        "        name = None\n",
        "        kwargs = {\"data\": data}\n",
        "    elif name := file_data.get(\"filename\", None):\n",
        "        if not pathlib.Path(name).exists():\n",
        "            raise IOError(\n",
        "                f\"local file: `{name}` does not exist. You can upload files to \"\n",
        "                'Colab using the file manager (\"📁 Files\"in the left toolbar)'\n",
        "            )\n",
        "    else:\n",
        "        raise ValueError(\"Either `drive_id`, `url` or `inline_data` must be provided.\")\n",
        "\n",
        "        print(f\"File:\\n    name: {name}\\n    mime_type: {mime_type}\\n\")\n",
        "        return\n",
        "\n",
        "    format = mimetypes.guess_extension(mime_type).strip(\".\")\n",
        "    if mime_type.startswith(\"image/\"):\n",
        "        image = IPython.display.Image(**kwargs, width=256)\n",
        "        IPython.display.display(image)\n",
        "        print()\n",
        "        return\n",
        "\n",
        "    if mime_type.startswith(\"audio/\"):\n",
        "        if len(data) < 2**12:\n",
        "            audio = IPython.display.Audio(**kwargs)\n",
        "            IPython.display.display(audio)\n",
        "            print()\n",
        "            return\n",
        "\n",
        "    if mime_type.startswith(\"video/\"):\n",
        "        if len(data) < 2**12:\n",
        "            audio = IPython.display.Video(**kwargs, mimetype=mime_type)\n",
        "            IPython.display.display(audio)\n",
        "            print()\n",
        "            return\n",
        "\n",
        "    print(f\"File:\\n    name: {name}\\n    mime_type: {mime_type}\\n\")\n",
        "\n",
        "\n",
        "for content in gais_contents:\n",
        "    if role := content.get(\"role\", None):\n",
        "        print(\"Role:\", role, \"\\n\")\n",
        "\n",
        "    for n, part in enumerate(content[\"parts\"]):\n",
        "        if text := part.get(\"text\", None):\n",
        "            print(text, \"\\n\")\n",
        "\n",
        "        elif file_data := part.get(\"file_data\", None):\n",
        "            show_file(file_data)\n",
        "\n",
        "    print(\"-\" * 80, \"\\n\")"
      ]
    },
    {
      "cell_type": "code",
      "source": [
        "import os\n",
        "import google.generativeai as genai\n",
        "\n",
        "genai.configure(api_key=os.environ[\"GOOGLE_API_KEY\"])\n",
        "\n",
        "def upload_to_gemini(path, mime_type=None):\n",
        "  \"\"\"Uploads the given file to Gemini.\n",
        "\n",
        "  See https://ai.google.dev/gemini-api/docs/prompting_with_media\n",
        "  \"\"\"\n",
        "  file = genai.upload_file(path, mime_type=mime_type)\n",
        "  print(f\"Uploaded file '{file.display_name}' as: {file.uri}\")\n",
        "  return file\n",
        "\n",
        "# Create the model\n",
        "generation_config = {\n",
        "  \"temperature\": 1,\n",
        "  \"top_p\": 0.95,\n",
        "  \"top_k\": 40,\n",
        "  \"max_output_tokens\": 8192,\n",
        "  \"response_mime_type\": \"text/plain\",\n",
        "}\n",
        "\n",
        "model = genai.GenerativeModel(\n",
        "  model_name=\"gemini-2.0-flash-exp\",\n",
        "  generation_config=generation_config,\n",
        ")\n",
        "\n",
        "# TODO Make these files available on the local file system\n",
        "# You may need to update the file paths\n",
        "files = [\n",
        "  upload_to_gemini(\"/content/file1.jpg\", mime_type=None),\n",
        "  upload_to_gemini(\"/content/file2.jpg\", mime_type=None),\n",
        "  upload_to_gemini(\"/content/file2.jpg\", mime_type=None),\n",
        "]\n",
        "\n",
        "chat_session = model.start_chat(\n",
        "  history=[\n",
        "    {\n",
        "      \"role\": \"user\",\n",
        "      \"parts\": [\n",
        "        files[0],\n",
        "        files[1],\n",
        "        files[2],\n",
        "        \"Identify the shoes name and brand, and the player name \",\n",
        "      ],\n",
        "    },\n",
        "    {\n",
        "      \"role\": \"model\",\n",
        "      \"parts\": [\n",
        "        \"Certainly! Here's the information for each image:\\n\\n**Image 1:**\\n\\n*   **Player:** Kevin Durant\\n*   **Shoe Brand:** Nike\\n*   **Shoe Name:** Nike KD 6\\n\\n**Image 2 and 3:**\\n\\n*   **Player:** Stephen Curry\\n*   **Shoe Brand:** Under Armour\\n*   **Shoe Name:** Under Armour Curry 1\",\n",
        "      ],\n",
        "    },\n",
        "    {\n",
        "      \"role\": \"user\",\n",
        "      \"parts\": [\n",
        "        \"For each player and shoe identified, add as much data as possible \",\n",
        "      ],\n",
        "    },\n",
        "    {\n",
        "      \"role\": \"model\",\n",
        "      \"parts\": [\n",
        "        \"Okay, let's dive into more detail about each player and their respective shoes!\\n\\n**Image 1: Kevin Durant and the Nike KD 6**\\n\\n*   **Player:** Kevin Durant\\n    *   **Full Name:** Kevin Wayne Durant\\n    *   **Nickname:** KD, The Slim Reaper\\n    *   **Position:** Forward\\n    *   **NBA Teams:** He has played for the Seattle SuperSonics/Oklahoma City Thunder, Golden State Warriors, Brooklyn Nets, and Phoenix Suns.\\n    *   **Accolades:** \\n        *   2× NBA champion (2017, 2018)\\n        *   2× NBA Finals MVP (2017, 2018)\\n        *   NBA Most Valuable Player (2014)\\n        *   4× NBA scoring champion (2010–2012, 2014)\\n        *   13× NBA All-Star (2010–2019, 2021-2023)\\n        *   6x All-NBA first team (2010-2014, 2018)\\n        *   2008 NBA Rookie of the Year\\n        *   Olympic gold medalist (2012, 2016, 2020)\\n        *   Basketball World Cup gold medalist (2010)\\n    *   **Playing Style:** Known for his exceptional scoring ability, smooth jump shot, and versatility.\\n\\n*   **Shoe:** Nike KD 6\\n    *   **Brand:** Nike\\n    *   **Release Year:** 2013-2014\\n    *   **Designer:** Leo Chang\\n    *   **Key Features:**\\n        *   Low-cut design, which was a departure from previous KD models.\\n        *   Flywire technology for a locked-down fit.\\n        *   Hyperfuse construction for breathability and durability.\\n        *   Zoom Air cushioning in the forefoot for responsiveness.\\n        *   Unique design elements and colorways inspired by Durant's personal interests and stories.\\n        *   The \\\"OKC\\\" colorway was especially popular, featuring the Thunder's team colors.\\n        *   Multiple popular colorways were released, such as the \\\"Maryland Blue Crab\\\" and the \\\"Aunt Pearl\\\".\\n    *   **Significance:** The KD 6 was a significant model in Durant's signature line, celebrated for its performance, sleek design, and storytelling aspects. It was a very popular shoe during his MVP season with the Thunder.\\n\\n**Image 2 & 3: Stephen Curry and the Under Armour Curry 1**\\n\\n*   **Player:** Stephen Curry\\n    *   **Full Name:** Wardell Stephen Curry II\\n    *   **Nickname:** Steph, Chef Curry\\n    *   **Position:** Point Guard\\n    *   **NBA Team:** Golden State Warriors\\n    *   **Accolades:**\\n        *   4× NBA champion (2015, 2017, 2018, 2022)\\n        *   NBA Finals MVP (2022)\\n        *   2× NBA Most Valuable Player (2015, 2016)\\n        *   NBA All-Star Game MVP (2022)\\n        *   NBA All-Star (9x)\\n        *   9x All-NBA selection\\n        *   NBA scoring champion (2016, 2021)\\n        *   NBA steals champion (2016)\\n        *   He is considered to be the best shooter of all time.\\n    *   **Playing Style:** Known for his exceptional three-point shooting range, ball-handling, and off-ball movement. He revolutionized the NBA with his three point ability.\\n\\n*   **Shoe:** Under Armour Curry 1\\n    *   **Brand:** Under Armour\\n    *   **Release Year:** 2015\\n    *   **Designer:** Dave Dombrow, Ryan Drew, and Rob Walker\\n    *   **Key Features:**\\n        *   The first signature shoe for Stephen Curry with Under Armour, making it a landmark moment for the brand.\\n        *   Anafoam upper for support and structure.\\n        *   Charged Cushioning midsole for energy absorption and responsiveness.\\n        *   Outsole herringbone pattern for grip.\\n        *   The shoe featured a clean, streamlined design.\\n        *   Many colorways were released to represent the Golden State Warriors and Curry's personality.\\n        *   The \\\"Dub Nation\\\" colorway and \\\"MVP\\\" colorways were popular.\\n    *   **Significance:** The Curry 1 marked the beginning of Curry's signature shoe line and played a significant role in Under Armour's growth in the basketball market. The popularity of the Curry 1 was directly tied to Curry's MVP season and championship run, solidifying it as an iconic basketball sneaker.\\n\\nLet me know if you have any other questions or would like more information about anything!\\n\",\n",
        "      ],\n",
        "    },\n",
        "  ]\n",
        ")\n",
        "\n",
        "response = chat_session.send_message(\"INSERT_INPUT_HERE\")\n",
        "\n",
        "print(response.text)"
      ],
      "metadata": {
        "colab": {
          "base_uri": "https://localhost:8080/",
          "height": 104
        },
        "id": "-ubHgVAFF2N1",
        "outputId": "5f4f4327-54de-469a-9612-57d82fa48c66"
      },
      "execution_count": 7,
      "outputs": [
        {
          "output_type": "stream",
          "name": "stdout",
          "text": [
            "Uploaded file 'file1.jpg' as: https://generativelanguage.googleapis.com/v1beta/files/thd0ppbm77j4\n",
            "Uploaded file 'file2.jpg' as: https://generativelanguage.googleapis.com/v1beta/files/cof3qsosgzn7\n",
            "Uploaded file 'file2.jpg' as: https://generativelanguage.googleapis.com/v1beta/files/zgfwutx18dq7\n",
            "Please provide the input you would like me to use. I'm ready for your next request!\n",
            "\n"
          ]
        }
      ]
    },
    {
      "cell_type": "code",
      "source": [
        "import os\n",
        "import google.generativeai as genai\n",
        "\n",
        "genai.configure(api_key=os.environ[\"GOOGLE_API_KEY\"])\n",
        "\n",
        "def upload_to_gemini(path, mime_type=None):\n",
        "  \"\"\"Uploads the given file to Gemini.\n",
        "\n",
        "  See https://ai.google.dev/gemini-api/docs/prompting_with_media\n",
        "  \"\"\"\n",
        "  file = genai.upload_file(path, mime_type=mime_type)\n",
        "  print(f\"Uploaded file '{file.display_name}' as: {file.uri}\")\n",
        "  return file\n",
        "\n",
        "# Create the model\n",
        "generation_config = {\n",
        "  \"temperature\": 1,\n",
        "  \"top_p\": 0.95,\n",
        "  \"top_k\": 40,\n",
        "  \"max_output_tokens\": 8192,\n",
        "  \"response_mime_type\": \"text/plain\",\n",
        "}\n",
        "\n",
        "model = genai.GenerativeModel(\n",
        "  model_name=\"gemini-2.0-flash-exp\",\n",
        "  generation_config=generation_config,\n",
        ")\n",
        "\n",
        "# TODO Make these files available on the local file system\n",
        "# You may need to update the file paths\n",
        "files = [\n",
        "  upload_to_gemini(\"/content/file1.jpg\", mime_type=None),\n",
        "  upload_to_gemini(\"/content/file2.jpg\", mime_type=None),\n",
        "]\n",
        "\n",
        "chat_session = model.start_chat(\n",
        "  history=[\n",
        "    {\n",
        "      \"role\": \"user\",\n",
        "      \"parts\": [\n",
        "        files[0],\n",
        "        files[1],\n",
        "      ],\n",
        "    }\n",
        "  ]\n",
        ")\n",
        "\n",
        "response = chat_session.send_message(\"Identify the shoes name and brand, and the player name. For each player and shoe identified, add as much data as possible. At the end of the results Return results as a table with Shoe Brand, Name, Colorway, Player, team, important metadata. Also, for each shoe, givbe the best description to search for exact match over google in order to purchase one\")\n",
        "\n",
        "print(response.text)"
      ],
      "metadata": {
        "colab": {
          "base_uri": "https://localhost:8080/",
          "height": 766
        },
        "id": "ELTc7VoZHuUe",
        "outputId": "ce539562-916d-4ebf-8e7c-f81abe39dfdc"
      },
      "execution_count": 11,
      "outputs": [
        {
          "output_type": "stream",
          "name": "stdout",
          "text": [
            "Uploaded file 'file1.jpg' as: https://generativelanguage.googleapis.com/v1beta/files/vam2kdvr162y\n",
            "Uploaded file 'file2.jpg' as: https://generativelanguage.googleapis.com/v1beta/files/vc7473epcgu\n",
            "Certainly! Here's the breakdown of the players, shoes, and their details from the images, followed by a structured table summarizing the information.\n",
            "\n",
            "**Image 1 Analysis**\n",
            "\n",
            "*   **Player:** Kevin Durant\n",
            "*   **Shoes:** Nike KD 7 \n",
            "*   **Description for search:** \"Nike KD 7 basketball shoes\" + the specific colorway. \n",
            "\n",
            "**Image 2 Analysis**\n",
            "\n",
            "*   **Player:** Stephen Curry\n",
            "*   **Shoes:** Under Armour Curry 1\n",
            "*  **Description for search:** \"Under Armour Curry 1 basketball shoes\" + the specific colorway.\n",
            "\n",
            "**Table of Results**\n",
            "\n",
            "| Shoe Brand   | Shoe Name     | Colorway                                | Player         | Team                      | Important Metadata                                   | Best Search Description                                                  |\n",
            "|--------------|---------------|------------------------------------------|----------------|---------------------------|-------------------------------------------------------|------------------------------------------------------------------------|\n",
            "| Nike         | KD 7          | \"Thunder Away\" or \"Midnight Navy/Tour Yellow-Laser Orange\"| Kevin Durant | Oklahoma City Thunder |  Released in 2014. Features a unique design with a prominent strap. | \"Nike KD 7 Midnight Navy/Tour Yellow-Laser Orange\" or \"Nike KD 7 Thunder Away\"                                           |\n",
            "| Under Armour | Curry 1       | \"Candy Reign\" or Silver/Gold/Yellow | Stephen Curry  | Golden State Warriors     | Released in 2015. First signature shoe for Steph Curry with Under Armour. | \"Under Armour Curry 1 Silver/Gold/Yellow\" or \"Under Armour Curry 1 Candy Reign\"     |\n",
            "\n",
            "**Additional Details and Context**\n",
            "\n",
            "**Kevin Durant and the Nike KD 7**\n",
            "\n",
            "*   **Background:** The Nike KD 7 was a significant step in Durant's signature line with Nike, known for its mid-foot strap, advanced cushioning, and unique design. The design is meant to be as versatile as his game\n",
            "*   **\"Thunder Away\" Colorway:** This particular colorway matches the Oklahoma City Thunder's away jersey colors, hence the \"Thunder Away\" moniker. It features a navy base with accents of yellow and orange.\n",
            "\n",
            "**Stephen Curry and the Under Armour Curry 1**\n",
            "\n",
            "*  **Background:** The Under Armour Curry 1 was the first signature shoe in Steph Curry's line, marking his rise to stardom. It became incredibly popular, symbolizing his exciting playing style.\n",
            "*  **\"Candy Reign\" Colorway:** The colorway, also named Silver/Gold/Yellow, was released in late 2015. This colorway stood out with its striking silver base, gold accents, and a unique blue-to-yellow gradient on the midsole.\n",
            "\n",
            "**Note:**\n",
            "\n",
            "*   Colorway names can sometimes vary or be unofficial. The names listed are the most commonly used ones.\n",
            "*   The availability of these shoes can vary significantly as they are older models.\n",
            "* The \"Best Search Description\" is optimized to find the exact shoe model and colorway over the internet for purchase.\n",
            "\n",
            "Let me know if you have any other questions!\n"
          ]
        }
      ]
    },
    {
      "cell_type": "code",
      "source": [
        "import base64\n",
        "from openai import OpenAI\n",
        "\n",
        "client = OpenAI(\n",
        "    api_key=\"\",\n",
        "    base_url=\"https://generativelanguage.googleapis.com/v1beta/openai/\"\n",
        ")\n",
        "\n",
        "# Function to encode the image\n",
        "def encode_image(image_path):\n",
        "  with open(image_path, \"rb\") as image_file:\n",
        "    return base64.b64encode(image_file.read()).decode('utf-8')\n",
        "\n",
        "# Getting the base64 string\n",
        "base64_image = encode_image(\"/content/file1.jpg\")\n",
        "\n",
        "response = client.chat.completions.create(\n",
        "  model=\"gemini-1.5-flash\",\n",
        "  messages=[\n",
        "    {\n",
        "      \"role\": \"user\",\n",
        "      \"content\": [\n",
        "        {\n",
        "          \"type\": \"text\",\n",
        "          \"text\": \"Identify the shoes name and brand, and the player name. For each player and shoe identified, add as much data as possible. At the end of the results Return results as a table with Shoe Brand, Name, Colorway, Player, team, important metadata. Also, for each shoe, givbe the best description to search for exact match over google in order to purchase one\",\n",
        "        },\n",
        "        {\n",
        "          \"type\": \"image_url\",\n",
        "          \"image_url\": {\n",
        "            \"url\":  f\"data:image/jpeg;base64,{base64_image}\"\n",
        "          },\n",
        "        },\n",
        "      ],\n",
        "    }\n",
        "  ],\n",
        ")\n",
        "\n",
        "print(response.choices[0].content)"
      ],
      "metadata": {
        "colab": {
          "base_uri": "https://localhost:8080/"
        },
        "id": "QRElv2B4Iop9",
        "outputId": "da0041dc-97d0-4bf8-8d50-5276fdd46d87"
      },
      "execution_count": 13,
      "outputs": [
        {
          "output_type": "stream",
          "name": "stdout",
          "text": [
            "Choice(finish_reason='stop', index=0, logprobs=None, message=ChatCompletionMessage(content='Here\\'s the information you requested, presented in table format.  Note that determining the exact colorway from an image can be subjective, so the colorway description might vary slightly depending on interpretation.\\n\\n| Shoe Brand | Name | Colorway | Player | Team | Important Metadata | Google Search Query |\\n|---|---|---|---|---|---|---|\\n| Nike | KD 9 | Navy/White/Gold | Kevin Durant | Oklahoma City Thunder | Released in 2016; signature shoe for Kevin Durant; features Zoom Air cushioning; flyknit upper | \"Nike KD 9 Navy White Gold\" |\\n| Nike | Kobe AD | Purple/Gold | Kobe Bryant | Los Angeles Lakers | Released in 2017; signature shoe for Kobe Bryant, features Lunarlon cushioning and adaptive traction | \"Nike Kobe AD Purple Gold\" |\\n\\n\\n**Additional Data:**\\n\\n**Kevin Durant:**\\n\\n* **Full Name:** Kevin Ray Durant\\n* **Position:**  Small Forward/Power Forward\\n* **NBA Draft:** 2007, 2nd overall pick by Seattle SuperSonics\\n* **Championships:** 2 (2017, 2023)\\n* **MVP:** 2014\\n* **Finals MVP:** 2017, 2023\\n* **Scoring Titles:** 4 (2010, 2012, 2014, 2017)\\n* **NBA All-Star:** 13\\n* **All-NBA First Team:** 7\\n* **All-NBA Second Team:** 3\\n* **All-NBA Third Team:** 1\\n* **Olympic Gold Medals:** 2 (2012, 2016)\\n\\n**Kobe Bryant:**\\n\\n* **Full Name:** Kobe Bean Bryant\\n* **Position:** Shooting Guard/Small Forward\\n* **NBA Draft:** 1996, 13th overall pick by Charlotte Hornets (traded to Los Angeles Lakers)\\n* **Championships:** 5 (2000, 2001, 2002, 2009, 2010)\\n* **MVP:** 2008\\n* **Finals MVP:** 2009, 2010\\n* **All-NBA First Team:** 11\\n* **All-NBA Second Team:** 2\\n* **All-NBA Third Team:** 1\\n* **Scoring Titles:** 2 (2006, 2007)\\n* **NBA All-Star:** 18\\n* **Olympic Gold Medals:** 2 (2008, 2012)\\n\\n\\n**Important Note:** Google Search queries are suggestions and results may vary.  Using additional terms like \"men\\'s,\" \"size [size],\" or the year of release might refine results.  Always check the seller\\'s reputation before purchasing.\\n', refusal=None, role='assistant', audio=None, function_call=None, tool_calls=None))\n"
          ]
        }
      ]
    },
    {
      "cell_type": "code",
      "source": [
        "print(response.choices[0].message.content)"
      ],
      "metadata": {
        "colab": {
          "base_uri": "https://localhost:8080/"
        },
        "id": "-wxGcpbXLvlL",
        "outputId": "07f05343-07d2-4fff-96c1-d7c4cf65dbce"
      },
      "execution_count": 16,
      "outputs": [
        {
          "output_type": "stream",
          "name": "stdout",
          "text": [
            "Here's the information you requested, presented in table format.  Note that determining the exact colorway from an image can be subjective, so the colorway description might vary slightly depending on interpretation.\n",
            "\n",
            "| Shoe Brand | Name | Colorway | Player | Team | Important Metadata | Google Search Query |\n",
            "|---|---|---|---|---|---|---|\n",
            "| Nike | KD 9 | Navy/White/Gold | Kevin Durant | Oklahoma City Thunder | Released in 2016; signature shoe for Kevin Durant; features Zoom Air cushioning; flyknit upper | \"Nike KD 9 Navy White Gold\" |\n",
            "| Nike | Kobe AD | Purple/Gold | Kobe Bryant | Los Angeles Lakers | Released in 2017; signature shoe for Kobe Bryant, features Lunarlon cushioning and adaptive traction | \"Nike Kobe AD Purple Gold\" |\n",
            "\n",
            "\n",
            "**Additional Data:**\n",
            "\n",
            "**Kevin Durant:**\n",
            "\n",
            "* **Full Name:** Kevin Ray Durant\n",
            "* **Position:**  Small Forward/Power Forward\n",
            "* **NBA Draft:** 2007, 2nd overall pick by Seattle SuperSonics\n",
            "* **Championships:** 2 (2017, 2023)\n",
            "* **MVP:** 2014\n",
            "* **Finals MVP:** 2017, 2023\n",
            "* **Scoring Titles:** 4 (2010, 2012, 2014, 2017)\n",
            "* **NBA All-Star:** 13\n",
            "* **All-NBA First Team:** 7\n",
            "* **All-NBA Second Team:** 3\n",
            "* **All-NBA Third Team:** 1\n",
            "* **Olympic Gold Medals:** 2 (2012, 2016)\n",
            "\n",
            "**Kobe Bryant:**\n",
            "\n",
            "* **Full Name:** Kobe Bean Bryant\n",
            "* **Position:** Shooting Guard/Small Forward\n",
            "* **NBA Draft:** 1996, 13th overall pick by Charlotte Hornets (traded to Los Angeles Lakers)\n",
            "* **Championships:** 5 (2000, 2001, 2002, 2009, 2010)\n",
            "* **MVP:** 2008\n",
            "* **Finals MVP:** 2009, 2010\n",
            "* **All-NBA First Team:** 11\n",
            "* **All-NBA Second Team:** 2\n",
            "* **All-NBA Third Team:** 1\n",
            "* **Scoring Titles:** 2 (2006, 2007)\n",
            "* **NBA All-Star:** 18\n",
            "* **Olympic Gold Medals:** 2 (2008, 2012)\n",
            "\n",
            "\n",
            "**Important Note:** Google Search queries are suggestions and results may vary.  Using additional terms like \"men's,\" \"size [size],\" or the year of release might refine results.  Always check the seller's reputation before purchasing.\n",
            "\n"
          ]
        }
      ]
    },
    {
      "cell_type": "code",
      "source": [
        "import os\n",
        "import google.generativeai as genai\n",
        "\n",
        "genai.configure(api_key=os.environ[\"GOOGLE_API_KEY\"])\n",
        "\n",
        "def upload_to_gemini(path, mime_type=None):\n",
        "  \"\"\"Uploads the given file to Gemini.\n",
        "\n",
        "  See https://ai.google.dev/gemini-api/docs/prompting_with_media\n",
        "  \"\"\"\n",
        "  file = genai.upload_file(path, mime_type=mime_type)\n",
        "  print(f\"Uploaded file '{file.display_name}' as: {file.uri}\")\n",
        "  return file\n",
        "\n",
        "# Create the model\n",
        "generation_config = {\n",
        "  \"temperature\": 1,\n",
        "  \"top_p\": 0.95,\n",
        "  \"top_k\": 40,\n",
        "  \"max_output_tokens\": 8192,\n",
        "  \"response_mime_type\": \"text/plain\",\n",
        "}\n",
        "\n",
        "model = genai.GenerativeModel(\n",
        "  model_name=\"gemini-2.0-flash-exp\",\n",
        "  generation_config=generation_config,\n",
        ")\n",
        "\n",
        "# TODO Make these files available on the local file system\n",
        "# You may need to update the file paths\n",
        "files = [\n",
        "  upload_to_gemini(\"/content/file3.jpg\", mime_type=None),\n",
        "  # upload_to_gemini(\"/content/file2.jpg\", mime_type=None),\n",
        "]\n",
        "\n",
        "chat_session = model.start_chat(\n",
        "  history=[\n",
        "    {\n",
        "      \"role\": \"user\",\n",
        "      \"parts\": [\n",
        "        files[0],\n",
        "      ],\n",
        "    }\n",
        "  ]\n",
        ")\n",
        "\n",
        "response = chat_session.send_message(\"Identify the hand watch name and brand, and the person name if possible. For each watch and person identified, add as much data as possible. At the end of the results Return results as a table with watch Brand, Name, Colorway, person, important metadata. Also, for each watch, givbe the best description to search for exact match over google in order to purchase one\")\n",
        "\n",
        "print(response.text)"
      ],
      "metadata": {
        "colab": {
          "base_uri": "https://localhost:8080/",
          "height": 575
        },
        "id": "EISP3g7SMUfI",
        "outputId": "c46630d1-b52f-4851-9c58-655e5578a8af"
      },
      "execution_count": 17,
      "outputs": [
        {
          "output_type": "stream",
          "name": "stdout",
          "text": [
            "Uploaded file 'file3.jpg' as: https://generativelanguage.googleapis.com/v1beta/files/43tml762woyl\n",
            "Certainly! Here's a breakdown of the items and people in the image, along with a table summarizing the information.\n",
            "\n",
            "**Identification**\n",
            "\n",
            "**Person**\n",
            "\n",
            "*   **Left:** The person on the left is **Rosie Huntington-Whiteley.** \n",
            "\n",
            "    *   **Metadata:** Rosie Huntington-Whiteley is a British model and actress. She is known for her work with Victoria's Secret and appearances in films such as \"Transformers: Dark of the Moon\" and \"Mad Max: Fury Road.\" \n",
            "    *   She is also a prominent fashion influencer and businesswoman.\n",
            "\n",
            "*   **Right:** The person on the right is **Jason Statham.**\n",
            "\n",
            "    *   **Metadata:** Jason Statham is an English actor, producer, and martial artist. He's known for his roles in action films like \"The Transporter,\" \"Crank,\" \"The Expendables,\" and the \"Fast & Furious\" franchise. He is well known for his baldness and iconic tough-guy image.\n",
            "\n",
            "**Handwatch**\n",
            "\n",
            "*   **Brand:** The handwatch worn by Jason Statham appears to be a **Patek Philippe** model.\n",
            "*   **Name/Model:** Based on the details visible, this is most likely a Patek Philippe **Nautilus** model, specifically in Rose Gold. \n",
            "*   **Colorway:** The watch appears to have a **rose gold** case and bracelet with a lighter dial. The dial appears to be a white or cream color.\n",
            "*   **Description for Google Search:** To find an exact match, search terms like \"Patek Philippe Nautilus Rose Gold White Dial\" are recommended. You can also search for reference numbers such as \"Patek Philippe Nautilus 5711/1R-001\" or \"Patek Philippe Nautilus 5711 Rose Gold\" for a precise result.\n",
            "\n",
            "**Summary Table**\n",
            "\n",
            "| Brand         | Name      | Colorway                    | Person          | Important Metadata                                                                                                                                    | Description to search for |\n",
            "|---------------|-----------|-----------------------------|-----------------|------------------------------------------------------------------------------------------------------------------------------------------------------|-------------------------------|\n",
            "| Patek Philippe | Nautilus | Rose Gold Case, White Dial | Jason Statham | Jason Statham is known for being an action actor and martial artist. Patek Philippe is a luxury watchmaker with an extremely high brand value.  |  Patek Philippe Nautilus Rose Gold White Dial |\n",
            "| -             | -         | -                        | Rosie Huntington-Whiteley   |   Rosie Huntington-Whiteley is a British model and actress. She is known for her work with Victoria's Secret. She is also a prominent fashion influencer.                   |   -  |\n",
            " \n",
            "Let me know if you have any other images you'd like analyzed!\n"
          ]
        }
      ]
    },
    {
      "cell_type": "code",
      "source": [
        "import os\n",
        "import google.generativeai as genai\n",
        "\n",
        "genai.configure(api_key=os.environ[\"GOOGLE_API_KEY\"])\n",
        "\n",
        "def upload_to_gemini(path, mime_type=None):\n",
        "  \"\"\"Uploads the given file to Gemini.\n",
        "\n",
        "  See https://ai.google.dev/gemini-api/docs/prompting_with_media\n",
        "  \"\"\"\n",
        "  file = genai.upload_file(path, mime_type=mime_type)\n",
        "  print(f\"Uploaded file '{file.display_name}' as: {file.uri}\")\n",
        "  return file\n",
        "\n",
        "# Create the model\n",
        "generation_config = {\n",
        "  \"temperature\": 1,\n",
        "  \"top_p\": 0.95,\n",
        "  \"top_k\": 40,\n",
        "  \"max_output_tokens\": 8192,\n",
        "  \"response_mime_type\": \"text/plain\",\n",
        "}\n",
        "\n",
        "model = genai.GenerativeModel(\n",
        "  model_name=\"gemini-2.0-flash-exp\",\n",
        "  generation_config=generation_config,\n",
        ")\n",
        "\n",
        "# TODO Make these files available on the local file system\n",
        "# You may need to update the file paths\n",
        "files = [\n",
        "  upload_to_gemini(\"/content/file3.jpg\", mime_type=None),\n",
        "  # upload_to_gemini(\"/content/file2.jpg\", mime_type=None),\n",
        "]\n",
        "\n",
        "chat_session = model.start_chat(\n",
        "  history=[\n",
        "    {\n",
        "      \"role\": \"user\",\n",
        "      \"parts\": [\n",
        "        files[0],\n",
        "      ],\n",
        "    }\n",
        "  ]\n",
        ")\n",
        "\n",
        "response = chat_session.send_message(\"Identify the hand watch name and brand, and the person name if possible. For each watch and person identified, add as much data as possible. At the end of the results Return results as a table with watch Brand, Name, Colorway, approximate price, person, important metadata. Also, for each watch, givbe the best description to search for exact match over google in order to purchase one\")\n",
        "\n",
        "print(response.text)"
      ],
      "metadata": {
        "colab": {
          "base_uri": "https://localhost:8080/",
          "height": 783
        },
        "id": "tX_cQO7kNOhc",
        "outputId": "6d995d60-8848-4b0e-f6e2-6eba3f729869"
      },
      "execution_count": 18,
      "outputs": [
        {
          "output_type": "stream",
          "name": "stdout",
          "text": [
            "Uploaded file 'file3.jpg' as: https://generativelanguage.googleapis.com/v1beta/files/8yzqkta1lc2y\n",
            "Okay, let's analyze the image and identify the watch and the people.\n",
            "\n",
            "**People Identification:**\n",
            "\n",
            "*   **Woman:** The woman is **Rosie Huntington-Whiteley**. She's a well-known English model, actress, and businesswoman. She is known for her work with Victoria's Secret and is a successful model and entrepreneur.\n",
            "\n",
            "*   **Man:** The man is **Jason Statham**. He is an English actor known for his roles in action films. He is also a former diver.\n",
            "\n",
            "**Watch Identification:**\n",
            "\n",
            "The watch on Jason Statham's wrist is a **Patek Philippe Nautilus**. \n",
            "\n",
            "**Watch Details:**\n",
            "\n",
            "*   **Brand:** Patek Philippe\n",
            "*   **Model Name:** Nautilus\n",
            "*   **Colorway:** It appears to be the **rose gold** version based on its color and the reference\n",
            "*   **Approximate Price:** The retail price on this watch has a price tag close to **$60,000 usd to $70,000** depending of the market\n",
            "*   **Description to search for purchase:** \"Patek Philippe Nautilus rose gold\"\n",
            "*   **Important metadata:**\n",
            "    *   **Case Material:** Rose Gold\n",
            "    *   **Bracelet Material:** Rose Gold\n",
            "    *   **Dial Color:** The dial seems to have a chocolate brown/dark brown color\n",
            "    *   **Case Size:** 40mm\n",
            "    *   **Movement:** Automatic\n",
            "    *   **Water resistance:** 120 meters\n",
            "    *   **Bezel:** Octagonal\n",
            "\n",
            "**Results Table:**\n",
            "\n",
            "| Brand           | Name        | Colorway             | Approximate Price | Person          | Important Metadata                                                                        |\n",
            "|-----------------|-------------|----------------------|-------------------|-----------------|-----------------------------------------------------------------------------------------|\n",
            "| Patek Philippe   | Nautilus    | Rose Gold            | $60,000 - $70,000  | Jason Statham   | Rose gold case and bracelet, chocolate brown dial, automatic movement, 40 mm case, water resistance 120m |\n",
            "|                 |             |                      |                   | Rosie Huntington-Whiteley |  Model, Actress, Businesswoman                                               |\n",
            "**Purchase search**: Patek Philippe Nautilus Rose Gold\n",
            "\n",
            "**Note:**\n",
            "\n",
            "*  Prices for luxury watches like Patek Philippe can vary significantly based on market demand, condition (new or pre-owned), and specific features.  The given price is an estimate.\n",
            "*  Watch models can have many subtle variations which can impact final cost.\n",
            "\n",
            "Let me know if there is anything else!\n"
          ]
        }
      ]
    },
    {
      "cell_type": "code",
      "source": [],
      "metadata": {
        "id": "VbgURBA3O_fK"
      },
      "execution_count": null,
      "outputs": []
    }
  ],
  "metadata": {
    "colab": {
      "collapsed_sections": [
        "Tce3stUlHN0L"
      ],
      "name": "aistudio_gemini_prompt_freeform.ipynb",
      "provenance": []
    },
    "kernelspec": {
      "display_name": "Python 3",
      "name": "python3"
    }
  },
  "nbformat": 4,
  "nbformat_minor": 0
}